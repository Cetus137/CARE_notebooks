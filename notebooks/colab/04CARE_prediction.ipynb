{
  "cells": [
    {
      "cell_type": "code",
      "execution_count": null,
      "metadata": {
        "colab": {
          "base_uri": "https://localhost:8080/",
          "height": 1000
        },
        "id": "6xEN_yCTwotI",
        "outputId": "581e768e-4f60-4962-8f49-5a8a7c9fe5e1"
      },
      "outputs": [
        {
          "output_type": "stream",
          "name": "stdout",
          "text": [
            "Mounted at /content/drive\n",
            "GPUs: [PhysicalDevice(name='/physical_device:GPU:0', device_type='GPU')]\n",
            "Collecting csbdeep\n",
            "  Downloading csbdeep-0.8.1-py2.py3-none-any.whl.metadata (2.4 kB)\n",
            "Requirement already satisfied: numpy in /usr/local/lib/python3.12/dist-packages (from csbdeep) (2.0.2)\n",
            "Requirement already satisfied: scipy in /usr/local/lib/python3.12/dist-packages (from csbdeep) (1.16.2)\n",
            "Requirement already satisfied: matplotlib in /usr/local/lib/python3.12/dist-packages (from csbdeep) (3.10.0)\n",
            "Requirement already satisfied: six in /usr/local/lib/python3.12/dist-packages (from csbdeep) (1.17.0)\n",
            "Requirement already satisfied: tifffile in /usr/local/lib/python3.12/dist-packages (from csbdeep) (2025.10.4)\n",
            "Requirement already satisfied: tqdm in /usr/local/lib/python3.12/dist-packages (from csbdeep) (4.67.1)\n",
            "Requirement already satisfied: packaging in /usr/local/lib/python3.12/dist-packages (from csbdeep) (25.0)\n",
            "Requirement already satisfied: contourpy>=1.0.1 in /usr/local/lib/python3.12/dist-packages (from matplotlib->csbdeep) (1.3.3)\n",
            "Requirement already satisfied: cycler>=0.10 in /usr/local/lib/python3.12/dist-packages (from matplotlib->csbdeep) (0.12.1)\n",
            "Requirement already satisfied: fonttools>=4.22.0 in /usr/local/lib/python3.12/dist-packages (from matplotlib->csbdeep) (4.60.1)\n",
            "Requirement already satisfied: kiwisolver>=1.3.1 in /usr/local/lib/python3.12/dist-packages (from matplotlib->csbdeep) (1.4.9)\n",
            "Requirement already satisfied: pillow>=8 in /usr/local/lib/python3.12/dist-packages (from matplotlib->csbdeep) (11.3.0)\n",
            "Requirement already satisfied: pyparsing>=2.3.1 in /usr/local/lib/python3.12/dist-packages (from matplotlib->csbdeep) (3.2.5)\n",
            "Requirement already satisfied: python-dateutil>=2.7 in /usr/local/lib/python3.12/dist-packages (from matplotlib->csbdeep) (2.9.0.post0)\n",
            "Downloading csbdeep-0.8.1-py2.py3-none-any.whl (71 kB)\n",
            "\u001b[2K   \u001b[90m━━━━━━━━━━━━━━━━━━━━━━━━━━━━━━━━━━━━━━━━\u001b[0m \u001b[32m71.6/71.6 kB\u001b[0m \u001b[31m5.4 MB/s\u001b[0m eta \u001b[36m0:00:00\u001b[0m\n",
            "\u001b[?25hInstalling collected packages: csbdeep\n",
            "Successfully installed csbdeep-0.8.1\n",
            "Collecting aicsimageio\n",
            "  Downloading aicsimageio-4.14.0-py2.py3-none-any.whl.metadata (20 kB)\n",
            "Requirement already satisfied: dask>=2021.4.1 in /usr/local/lib/python3.12/dist-packages (from dask[array]>=2021.4.1->aicsimageio) (2025.5.0)\n",
            "Collecting fsspec<2023.9.0,>=2022.8.0 (from aicsimageio)\n",
            "  Downloading fsspec-2023.6.0-py3-none-any.whl.metadata (6.7 kB)\n",
            "Collecting imagecodecs>=2020.5.30 (from aicsimageio)\n",
            "  Downloading imagecodecs-2025.8.2-cp312-cp312-manylinux_2_27_x86_64.manylinux_2_28_x86_64.whl.metadata (20 kB)\n",
            "Collecting lxml<5,>=4.6 (from aicsimageio)\n",
            "  Downloading lxml-4.9.4-cp312-cp312-manylinux_2_28_x86_64.whl.metadata (3.7 kB)\n",
            "Requirement already satisfied: numpy>=1.21.0 in /usr/local/lib/python3.12/dist-packages (from aicsimageio) (2.0.2)\n",
            "Collecting ome-types>=0.3.4 (from aicsimageio)\n",
            "  Downloading ome_types-0.6.2-py3-none-any.whl.metadata (9.8 kB)\n",
            "Collecting ome-zarr>=0.6.1 (from aicsimageio)\n",
            "  Downloading ome_zarr-0.12.2-py3-none-any.whl.metadata (2.9 kB)\n",
            "Requirement already satisfied: PyYAML>=6.0 in /usr/local/lib/python3.12/dist-packages (from aicsimageio) (6.0.3)\n",
            "Requirement already satisfied: wrapt>=1.12 in /usr/local/lib/python3.12/dist-packages (from aicsimageio) (1.17.3)\n",
            "Collecting resource-backed-dask-array>=0.1.0 (from aicsimageio)\n",
            "  Downloading resource_backed_dask_array-0.1.0-py2.py3-none-any.whl.metadata (6.5 kB)\n",
            "Collecting tifffile<2023.3.15,>=2021.8.30 (from aicsimageio)\n",
            "  Downloading tifffile-2023.2.28-py3-none-any.whl.metadata (30 kB)\n",
            "Requirement already satisfied: xarray>=0.16.1 in /usr/local/lib/python3.12/dist-packages (from aicsimageio) (2025.10.1)\n",
            "Collecting xmlschema (from aicsimageio)\n",
            "  Downloading xmlschema-4.2.0-py3-none-any.whl.metadata (8.0 kB)\n",
            "Collecting zarr<2.16.0,>=2.6 (from aicsimageio)\n",
            "  Downloading zarr-2.15.0-py3-none-any.whl.metadata (5.4 kB)\n",
            "Requirement already satisfied: click>=8.1 in /usr/local/lib/python3.12/dist-packages (from dask>=2021.4.1->dask[array]>=2021.4.1->aicsimageio) (8.3.0)\n",
            "Requirement already satisfied: cloudpickle>=3.0.0 in /usr/local/lib/python3.12/dist-packages (from dask>=2021.4.1->dask[array]>=2021.4.1->aicsimageio) (3.1.1)\n",
            "Requirement already satisfied: packaging>=20.0 in /usr/local/lib/python3.12/dist-packages (from dask>=2021.4.1->dask[array]>=2021.4.1->aicsimageio) (25.0)\n",
            "Requirement already satisfied: partd>=1.4.0 in /usr/local/lib/python3.12/dist-packages (from dask>=2021.4.1->dask[array]>=2021.4.1->aicsimageio) (1.4.2)\n",
            "Requirement already satisfied: toolz>=0.10.0 in /usr/local/lib/python3.12/dist-packages (from dask>=2021.4.1->dask[array]>=2021.4.1->aicsimageio) (0.12.1)\n",
            "Collecting pydantic-extra-types>=2.0.0 (from ome-types>=0.3.4->aicsimageio)\n",
            "  Downloading pydantic_extra_types-2.10.6-py3-none-any.whl.metadata (4.0 kB)\n",
            "Requirement already satisfied: pydantic>=2.4.0 in /usr/local/lib/python3.12/dist-packages (from ome-types>=0.3.4->aicsimageio) (2.11.10)\n",
            "Collecting xsdata>=24.4 (from ome-types>=0.3.4->aicsimageio)\n",
            "  Downloading xsdata-25.7-py3-none-any.whl.metadata (5.5 kB)\n",
            "INFO: pip is looking at multiple versions of ome-zarr to determine which version is compatible with other requirements. This could take a while.\n",
            "Collecting ome-zarr>=0.6.1 (from aicsimageio)\n",
            "  Downloading ome_zarr-0.12.1-py3-none-any.whl.metadata (2.9 kB)\n",
            "  Downloading ome_zarr-0.12.0-py3-none-any.whl.metadata (2.9 kB)\n",
            "  Downloading ome_zarr-0.11.1-py3-none-any.whl.metadata (2.9 kB)\n",
            "Requirement already satisfied: aiohttp<4 in /usr/local/lib/python3.12/dist-packages (from ome-zarr>=0.6.1->aicsimageio) (3.13.0)\n",
            "Requirement already satisfied: requests in /usr/local/lib/python3.12/dist-packages (from ome-zarr>=0.6.1->aicsimageio) (2.32.4)\n",
            "Requirement already satisfied: scikit-image in /usr/local/lib/python3.12/dist-packages (from ome-zarr>=0.6.1->aicsimageio) (0.25.2)\n",
            "Requirement already satisfied: typing-extensions in /usr/local/lib/python3.12/dist-packages (from resource-backed-dask-array>=0.1.0->aicsimageio) (4.15.0)\n",
            "Requirement already satisfied: pandas>=2.2 in /usr/local/lib/python3.12/dist-packages (from xarray>=0.16.1->aicsimageio) (2.2.2)\n",
            "Collecting asciitree (from zarr<2.16.0,>=2.6->aicsimageio)\n",
            "  Downloading asciitree-0.3.3.tar.gz (4.0 kB)\n",
            "  Preparing metadata (setup.py) ... \u001b[?25l\u001b[?25hdone\n",
            "Collecting fasteners (from zarr<2.16.0,>=2.6->aicsimageio)\n",
            "  Downloading fasteners-0.20-py3-none-any.whl.metadata (4.8 kB)\n",
            "Collecting numcodecs>=0.10.0 (from zarr<2.16.0,>=2.6->aicsimageio)\n",
            "  Downloading numcodecs-0.16.3-cp312-cp312-manylinux_2_17_x86_64.manylinux2014_x86_64.whl.metadata (3.3 kB)\n",
            "Collecting elementpath<6.0.0,>=5.0.1 (from xmlschema->aicsimageio)\n",
            "  Downloading elementpath-5.0.4-py3-none-any.whl.metadata (7.0 kB)\n",
            "Requirement already satisfied: aiohappyeyeballs>=2.5.0 in /usr/local/lib/python3.12/dist-packages (from aiohttp<4->ome-zarr>=0.6.1->aicsimageio) (2.6.1)\n",
            "Requirement already satisfied: aiosignal>=1.4.0 in /usr/local/lib/python3.12/dist-packages (from aiohttp<4->ome-zarr>=0.6.1->aicsimageio) (1.4.0)\n",
            "Requirement already satisfied: attrs>=17.3.0 in /usr/local/lib/python3.12/dist-packages (from aiohttp<4->ome-zarr>=0.6.1->aicsimageio) (25.4.0)\n",
            "Requirement already satisfied: frozenlist>=1.1.1 in /usr/local/lib/python3.12/dist-packages (from aiohttp<4->ome-zarr>=0.6.1->aicsimageio) (1.8.0)\n",
            "Requirement already satisfied: multidict<7.0,>=4.5 in /usr/local/lib/python3.12/dist-packages (from aiohttp<4->ome-zarr>=0.6.1->aicsimageio) (6.7.0)\n",
            "Requirement already satisfied: propcache>=0.2.0 in /usr/local/lib/python3.12/dist-packages (from aiohttp<4->ome-zarr>=0.6.1->aicsimageio) (0.3.2)\n",
            "Requirement already satisfied: yarl<2.0,>=1.17.0 in /usr/local/lib/python3.12/dist-packages (from aiohttp<4->ome-zarr>=0.6.1->aicsimageio) (1.22.0)\n",
            "Collecting s3fs (from fsspec[s3]!=2021.07.0,!=2023.9.0,>=0.8->ome-zarr>=0.6.1->aicsimageio)\n",
            "  Downloading s3fs-2025.9.0-py3-none-any.whl.metadata (1.4 kB)\n",
            "Requirement already satisfied: python-dateutil>=2.8.2 in /usr/local/lib/python3.12/dist-packages (from pandas>=2.2->xarray>=0.16.1->aicsimageio) (2.9.0.post0)\n",
            "Requirement already satisfied: pytz>=2020.1 in /usr/local/lib/python3.12/dist-packages (from pandas>=2.2->xarray>=0.16.1->aicsimageio) (2025.2)\n",
            "Requirement already satisfied: tzdata>=2022.7 in /usr/local/lib/python3.12/dist-packages (from pandas>=2.2->xarray>=0.16.1->aicsimageio) (2025.2)\n",
            "Requirement already satisfied: locket in /usr/local/lib/python3.12/dist-packages (from partd>=1.4.0->dask>=2021.4.1->dask[array]>=2021.4.1->aicsimageio) (1.0.0)\n",
            "Requirement already satisfied: annotated-types>=0.6.0 in /usr/local/lib/python3.12/dist-packages (from pydantic>=2.4.0->ome-types>=0.3.4->aicsimageio) (0.7.0)\n",
            "Requirement already satisfied: pydantic-core==2.33.2 in /usr/local/lib/python3.12/dist-packages (from pydantic>=2.4.0->ome-types>=0.3.4->aicsimageio) (2.33.2)\n",
            "Requirement already satisfied: typing-inspection>=0.4.0 in /usr/local/lib/python3.12/dist-packages (from pydantic>=2.4.0->ome-types>=0.3.4->aicsimageio) (0.4.2)\n",
            "Requirement already satisfied: charset_normalizer<4,>=2 in /usr/local/lib/python3.12/dist-packages (from requests->ome-zarr>=0.6.1->aicsimageio) (3.4.3)\n",
            "Requirement already satisfied: idna<4,>=2.5 in /usr/local/lib/python3.12/dist-packages (from requests->ome-zarr>=0.6.1->aicsimageio) (3.10)\n",
            "Requirement already satisfied: urllib3<3,>=1.21.1 in /usr/local/lib/python3.12/dist-packages (from requests->ome-zarr>=0.6.1->aicsimageio) (2.5.0)\n",
            "Requirement already satisfied: certifi>=2017.4.17 in /usr/local/lib/python3.12/dist-packages (from requests->ome-zarr>=0.6.1->aicsimageio) (2025.10.5)\n",
            "Requirement already satisfied: scipy>=1.11.4 in /usr/local/lib/python3.12/dist-packages (from scikit-image->ome-zarr>=0.6.1->aicsimageio) (1.16.2)\n",
            "Requirement already satisfied: networkx>=3.0 in /usr/local/lib/python3.12/dist-packages (from scikit-image->ome-zarr>=0.6.1->aicsimageio) (3.5)\n",
            "Requirement already satisfied: pillow>=10.1 in /usr/local/lib/python3.12/dist-packages (from scikit-image->ome-zarr>=0.6.1->aicsimageio) (11.3.0)\n",
            "Requirement already satisfied: imageio!=2.35.0,>=2.33 in /usr/local/lib/python3.12/dist-packages (from scikit-image->ome-zarr>=0.6.1->aicsimageio) (2.37.0)\n",
            "Requirement already satisfied: lazy-loader>=0.4 in /usr/local/lib/python3.12/dist-packages (from scikit-image->ome-zarr>=0.6.1->aicsimageio) (0.4)\n",
            "Requirement already satisfied: six>=1.5 in /usr/local/lib/python3.12/dist-packages (from python-dateutil>=2.8.2->pandas>=2.2->xarray>=0.16.1->aicsimageio) (1.17.0)\n",
            "Collecting aiobotocore<3.0.0,>=2.5.4 (from s3fs->fsspec[s3]!=2021.07.0,!=2023.9.0,>=0.8->ome-zarr>=0.6.1->aicsimageio)\n",
            "  Downloading aiobotocore-2.25.0-py3-none-any.whl.metadata (25 kB)\n",
            "INFO: pip is looking at multiple versions of s3fs to determine which version is compatible with other requirements. This could take a while.\n",
            "Collecting s3fs (from fsspec[s3]!=2021.07.0,!=2023.9.0,>=0.8->ome-zarr>=0.6.1->aicsimageio)\n",
            "  Downloading s3fs-2025.7.0-py3-none-any.whl.metadata (1.4 kB)\n",
            "  Downloading s3fs-2025.5.1-py3-none-any.whl.metadata (1.9 kB)\n",
            "  Downloading s3fs-2025.5.0-py3-none-any.whl.metadata (1.9 kB)\n",
            "  Downloading s3fs-2025.3.2-py3-none-any.whl.metadata (1.9 kB)\n",
            "  Downloading s3fs-2025.3.1-py3-none-any.whl.metadata (1.9 kB)\n",
            "  Downloading s3fs-2025.3.0-py3-none-any.whl.metadata (1.9 kB)\n",
            "  Downloading s3fs-2025.2.0-py3-none-any.whl.metadata (1.9 kB)\n",
            "INFO: pip is still looking at multiple versions of s3fs to determine which version is compatible with other requirements. This could take a while.\n",
            "  Downloading s3fs-2024.12.0-py3-none-any.whl.metadata (1.6 kB)\n",
            "  Downloading s3fs-2024.10.0-py3-none-any.whl.metadata (1.7 kB)\n",
            "  Downloading s3fs-2024.9.0-py3-none-any.whl.metadata (1.6 kB)\n",
            "  Downloading s3fs-2024.6.1-py3-none-any.whl.metadata (1.6 kB)\n",
            "  Downloading s3fs-2024.6.0-py3-none-any.whl.metadata (1.6 kB)\n",
            "INFO: This is taking longer than usual. You might need to provide the dependency resolver with stricter constraints to reduce runtime. See https://pip.pypa.io/warnings/backtracking for guidance. If you want to abort this run, press Ctrl + C.\n",
            "  Downloading s3fs-2024.5.0-py3-none-any.whl.metadata (1.6 kB)\n",
            "  Downloading s3fs-2024.3.1-py3-none-any.whl.metadata (1.6 kB)\n",
            "  Downloading s3fs-2024.3.0-py3-none-any.whl.metadata (1.6 kB)\n",
            "  Downloading s3fs-2024.2.0-py3-none-any.whl.metadata (1.6 kB)\n",
            "  Downloading s3fs-2023.12.2-py3-none-any.whl.metadata (1.6 kB)\n",
            "  Downloading s3fs-2023.12.1-py3-none-any.whl.metadata (1.6 kB)\n",
            "  Downloading s3fs-2023.10.0-py3-none-any.whl.metadata (1.6 kB)\n",
            "Collecting aiobotocore~=2.7.0 (from s3fs->fsspec[s3]!=2021.07.0,!=2023.9.0,>=0.8->ome-zarr>=0.6.1->aicsimageio)\n",
            "  Downloading aiobotocore-2.7.0-py3-none-any.whl.metadata (20 kB)\n",
            "Collecting s3fs (from fsspec[s3]!=2021.07.0,!=2023.9.0,>=0.8->ome-zarr>=0.6.1->aicsimageio)\n",
            "  Downloading s3fs-2023.9.2-py3-none-any.whl.metadata (1.6 kB)\n",
            "Collecting aiobotocore~=2.5.4 (from s3fs->fsspec[s3]!=2021.07.0,!=2023.9.0,>=0.8->ome-zarr>=0.6.1->aicsimageio)\n",
            "  Downloading aiobotocore-2.5.4-py3-none-any.whl.metadata (19 kB)\n",
            "Collecting s3fs (from fsspec[s3]!=2021.07.0,!=2023.9.0,>=0.8->ome-zarr>=0.6.1->aicsimageio)\n",
            "  Downloading s3fs-2023.9.1-py3-none-any.whl.metadata (1.6 kB)\n",
            "  Downloading s3fs-2023.9.0-py3-none-any.whl.metadata (1.6 kB)\n",
            "  Downloading s3fs-2023.6.0-py3-none-any.whl.metadata (1.6 kB)\n",
            "Collecting botocore<1.31.18,>=1.31.17 (from aiobotocore~=2.5.4->s3fs->fsspec[s3]!=2021.07.0,!=2023.9.0,>=0.8->ome-zarr>=0.6.1->aicsimageio)\n",
            "  Downloading botocore-1.31.17-py3-none-any.whl.metadata (5.9 kB)\n",
            "Collecting aioitertools<1.0.0,>=0.5.1 (from aiobotocore~=2.5.4->s3fs->fsspec[s3]!=2021.07.0,!=2023.9.0,>=0.8->ome-zarr>=0.6.1->aicsimageio)\n",
            "  Downloading aioitertools-0.12.0-py3-none-any.whl.metadata (3.8 kB)\n",
            "Collecting jmespath<2.0.0,>=0.7.1 (from botocore<1.31.18,>=1.31.17->aiobotocore~=2.5.4->s3fs->fsspec[s3]!=2021.07.0,!=2023.9.0,>=0.8->ome-zarr>=0.6.1->aicsimageio)\n",
            "  Downloading jmespath-1.0.1-py3-none-any.whl.metadata (7.6 kB)\n",
            "Collecting urllib3<3,>=1.21.1 (from requests->ome-zarr>=0.6.1->aicsimageio)\n",
            "  Downloading urllib3-1.26.20-py2.py3-none-any.whl.metadata (50 kB)\n",
            "\u001b[2K     \u001b[90m━━━━━━━━━━━━━━━━━━━━━━━━━━━━━━━━━━━━━━━━\u001b[0m \u001b[32m50.1/50.1 kB\u001b[0m \u001b[31m4.4 MB/s\u001b[0m eta \u001b[36m0:00:00\u001b[0m\n",
            "\u001b[?25hDownloading aicsimageio-4.14.0-py2.py3-none-any.whl (138 kB)\n",
            "\u001b[2K   \u001b[90m━━━━━━━━━━━━━━━━━━━━━━━━━━━━━━━━━━━━━━━━\u001b[0m \u001b[32m138.7/138.7 kB\u001b[0m \u001b[31m11.9 MB/s\u001b[0m eta \u001b[36m0:00:00\u001b[0m\n",
            "\u001b[?25hDownloading fsspec-2023.6.0-py3-none-any.whl (163 kB)\n",
            "\u001b[2K   \u001b[90m━━━━━━━━━━━━━━━━━━━━━━━━━━━━━━━━━━━━━━━━\u001b[0m \u001b[32m163.8/163.8 kB\u001b[0m \u001b[31m15.7 MB/s\u001b[0m eta \u001b[36m0:00:00\u001b[0m\n",
            "\u001b[?25hDownloading imagecodecs-2025.8.2-cp312-cp312-manylinux_2_27_x86_64.manylinux_2_28_x86_64.whl (26.7 MB)\n",
            "\u001b[2K   \u001b[90m━━━━━━━━━━━━━━━━━━━━━━━━━━━━━━━━━━━━━━━━\u001b[0m \u001b[32m26.7/26.7 MB\u001b[0m \u001b[31m85.1 MB/s\u001b[0m eta \u001b[36m0:00:00\u001b[0m\n",
            "\u001b[?25hDownloading lxml-4.9.4-cp312-cp312-manylinux_2_28_x86_64.whl (8.0 MB)\n",
            "\u001b[2K   \u001b[90m━━━━━━━━━━━━━━━━━━━━━━━━━━━━━━━━━━━━━━━━\u001b[0m \u001b[32m8.0/8.0 MB\u001b[0m \u001b[31m126.9 MB/s\u001b[0m eta \u001b[36m0:00:00\u001b[0m\n",
            "\u001b[?25hDownloading ome_types-0.6.2-py3-none-any.whl (245 kB)\n",
            "\u001b[2K   \u001b[90m━━━━━━━━━━━━━━━━━━━━━━━━━━━━━━━━━━━━━━━━\u001b[0m \u001b[32m245.8/245.8 kB\u001b[0m \u001b[31m19.2 MB/s\u001b[0m eta \u001b[36m0:00:00\u001b[0m\n",
            "\u001b[?25hDownloading ome_zarr-0.11.1-py3-none-any.whl (40 kB)\n",
            "Downloading resource_backed_dask_array-0.1.0-py2.py3-none-any.whl (8.0 kB)\n",
            "Downloading tifffile-2023.2.28-py3-none-any.whl (216 kB)\n",
            "\u001b[2K   \u001b[90m━━━━━━━━━━━━━━━━━━━━━━━━━━━━━━━━━━━━━━━━\u001b[0m \u001b[32m216.4/216.4 kB\u001b[0m \u001b[31m21.1 MB/s\u001b[0m eta \u001b[36m0:00:00\u001b[0m\n",
            "\u001b[?25hDownloading zarr-2.15.0-py3-none-any.whl (206 kB)\n",
            "\u001b[2K   \u001b[90m━━━━━━━━━━━━━━━━━━━━━━━━━━━━━━━━━━━━━━━━\u001b[0m \u001b[32m206.1/206.1 kB\u001b[0m \u001b[31m20.2 MB/s\u001b[0m eta \u001b[36m0:00:00\u001b[0m\n",
            "\u001b[?25hDownloading xmlschema-4.2.0-py3-none-any.whl (467 kB)\n",
            "\u001b[2K   \u001b[90m━━━━━━━━━━━━━━━━━━━━━━━━━━━━━━━━━━━━━━━━\u001b[0m \u001b[32m467.2/467.2 kB\u001b[0m \u001b[31m37.1 MB/s\u001b[0m eta \u001b[36m0:00:00\u001b[0m\n",
            "\u001b[?25hDownloading elementpath-5.0.4-py3-none-any.whl (245 kB)\n",
            "\u001b[2K   \u001b[90m━━━━━━━━━━━━━━━━━━━━━━━━━━━━━━━━━━━━━━━━\u001b[0m \u001b[32m245.5/245.5 kB\u001b[0m \u001b[31m22.8 MB/s\u001b[0m eta \u001b[36m0:00:00\u001b[0m\n",
            "\u001b[?25hDownloading numcodecs-0.16.3-cp312-cp312-manylinux_2_17_x86_64.manylinux2014_x86_64.whl (8.8 MB)\n",
            "\u001b[2K   \u001b[90m━━━━━━━━━━━━━━━━━━━━━━━━━━━━━━━━━━━━━━━━\u001b[0m \u001b[32m8.8/8.8 MB\u001b[0m \u001b[31m140.3 MB/s\u001b[0m eta \u001b[36m0:00:00\u001b[0m\n",
            "\u001b[?25hDownloading pydantic_extra_types-2.10.6-py3-none-any.whl (40 kB)\n",
            "\u001b[2K   \u001b[90m━━━━━━━━━━━━━━━━━━━━━━━━━━━━━━━━━━━━━━━━\u001b[0m \u001b[32m40.9/40.9 kB\u001b[0m \u001b[31m3.2 MB/s\u001b[0m eta \u001b[36m0:00:00\u001b[0m\n",
            "\u001b[?25hDownloading xsdata-25.7-py3-none-any.whl (234 kB)\n",
            "\u001b[2K   \u001b[90m━━━━━━━━━━━━━━━━━━━━━━━━━━━━━━━━━━━━━━━━\u001b[0m \u001b[32m234.5/234.5 kB\u001b[0m \u001b[31m20.6 MB/s\u001b[0m eta \u001b[36m0:00:00\u001b[0m\n",
            "\u001b[?25hDownloading fasteners-0.20-py3-none-any.whl (18 kB)\n",
            "Downloading s3fs-2023.6.0-py3-none-any.whl (28 kB)\n",
            "Downloading aiobotocore-2.5.4-py3-none-any.whl (73 kB)\n",
            "\u001b[2K   \u001b[90m━━━━━━━━━━━━━━━━━━━━━━━━━━━━━━━━━━━━━━━━\u001b[0m \u001b[32m73.4/73.4 kB\u001b[0m \u001b[31m6.4 MB/s\u001b[0m eta \u001b[36m0:00:00\u001b[0m\n",
            "\u001b[?25hDownloading aioitertools-0.12.0-py3-none-any.whl (24 kB)\n",
            "Downloading botocore-1.31.17-py3-none-any.whl (11.1 MB)\n",
            "\u001b[2K   \u001b[90m━━━━━━━━━━━━━━━━━━━━━━━━━━━━━━━━━━━━━━━━\u001b[0m \u001b[32m11.1/11.1 MB\u001b[0m \u001b[31m115.1 MB/s\u001b[0m eta \u001b[36m0:00:00\u001b[0m\n",
            "\u001b[?25hDownloading urllib3-1.26.20-py2.py3-none-any.whl (144 kB)\n",
            "\u001b[2K   \u001b[90m━━━━━━━━━━━━━━━━━━━━━━━━━━━━━━━━━━━━━━━━\u001b[0m \u001b[32m144.2/144.2 kB\u001b[0m \u001b[31m14.8 MB/s\u001b[0m eta \u001b[36m0:00:00\u001b[0m\n",
            "\u001b[?25hDownloading jmespath-1.0.1-py3-none-any.whl (20 kB)\n",
            "Building wheels for collected packages: asciitree\n",
            "  Building wheel for asciitree (setup.py) ... \u001b[?25l\u001b[?25hdone\n",
            "  Created wheel for asciitree: filename=asciitree-0.3.3-py3-none-any.whl size=5031 sha256=c43e370ea90a18582650ea3454e9755aeb15ffb5d90866bcbc1969ebb7c8bb5d\n",
            "  Stored in directory: /root/.cache/pip/wheels/a5/d7/98/f56ae733748cd0fa577172bda0e73e0b1f1793c98e09b9e458\n",
            "Successfully built asciitree\n",
            "Installing collected packages: asciitree, xsdata, urllib3, tifffile, numcodecs, lxml, jmespath, imagecodecs, fsspec, fasteners, elementpath, aioitertools, zarr, xmlschema, botocore, pydantic-extra-types, aiobotocore, s3fs, resource-backed-dask-array, ome-types, ome-zarr, aicsimageio\n",
            "  Attempting uninstall: urllib3\n",
            "    Found existing installation: urllib3 2.5.0\n",
            "    Uninstalling urllib3-2.5.0:\n",
            "      Successfully uninstalled urllib3-2.5.0\n",
            "  Attempting uninstall: tifffile\n",
            "    Found existing installation: tifffile 2025.10.4\n",
            "    Uninstalling tifffile-2025.10.4:\n",
            "      Successfully uninstalled tifffile-2025.10.4\n",
            "  Attempting uninstall: lxml\n",
            "    Found existing installation: lxml 5.4.0\n",
            "    Uninstalling lxml-5.4.0:\n",
            "      Successfully uninstalled lxml-5.4.0\n",
            "  Attempting uninstall: fsspec\n",
            "    Found existing installation: fsspec 2025.3.0\n",
            "    Uninstalling fsspec-2025.3.0:\n",
            "      Successfully uninstalled fsspec-2025.3.0\n",
            "\u001b[31mERROR: pip's dependency resolver does not currently take into account all the packages that are installed. This behaviour is the source of the following dependency conflicts.\n",
            "gcsfs 2025.3.0 requires fsspec==2025.3.0, but you have fsspec 2023.6.0 which is incompatible.\u001b[0m\u001b[31m\n",
            "\u001b[0mSuccessfully installed aicsimageio-4.14.0 aiobotocore-2.5.4 aioitertools-0.12.0 asciitree-0.3.3 botocore-1.31.17 elementpath-5.0.4 fasteners-0.20 fsspec-2023.6.0 imagecodecs-2025.8.2 jmespath-1.0.1 lxml-4.9.4 numcodecs-0.16.3 ome-types-0.6.2 ome-zarr-0.11.1 pydantic-extra-types-2.10.6 resource-backed-dask-array-0.1.0 s3fs-2023.6.0 tifffile-2023.2.28 urllib3-1.26.20 xmlschema-4.2.0 xsdata-25.7 zarr-2.15.0\n"
          ]
        },
        {
          "output_type": "display_data",
          "data": {
            "application/vnd.colab-display-data+json": {
              "pip_warning": {
                "packages": [
                  "urllib3"
                ]
              },
              "id": "f624d837ea444bee94ffcd81867d8da8"
            }
          },
          "metadata": {}
        },
        {
          "output_type": "stream",
          "name": "stdout",
          "text": [
            "Collecting aicspylibczi\n",
            "  Downloading aicspylibczi-3.3.1-cp312-cp312-manylinux_2_17_x86_64.manylinux2014_x86_64.whl.metadata (10 kB)\n",
            "Requirement already satisfied: numpy>=1.14.1 in /usr/local/lib/python3.12/dist-packages (from aicspylibczi) (2.0.2)\n",
            "Downloading aicspylibczi-3.3.1-cp312-cp312-manylinux_2_17_x86_64.manylinux2014_x86_64.whl (1.1 MB)\n",
            "\u001b[2K   \u001b[90m━━━━━━━━━━━━━━━━━━━━━━━━━━━━━━━━━━━━━━━━\u001b[0m \u001b[32m1.1/1.1 MB\u001b[0m \u001b[31m47.5 MB/s\u001b[0m eta \u001b[36m0:00:00\u001b[0m\n",
            "\u001b[?25hInstalling collected packages: aicspylibczi\n",
            "Successfully installed aicspylibczi-3.3.1\n"
          ]
        }
      ],
      "source": [
        "from google.colab import drive\n",
        "drive.mount('/content/drive')\n",
        "\n",
        "import tensorflow as tf\n",
        "print(\"GPUs:\", tf.config.list_physical_devices('GPU'))\n",
        "\n",
        "!pip install csbdeep\n",
        "!pip install aicsimageio\n",
        "!pip install aicspylibczi\n",
        "\n",
        "from __future__ import print_function, unicode_literals, absolute_import, division\n",
        "import numpy as np\n",
        "import matplotlib.pyplot as plt\n",
        "import tifffile as tiff\n",
        "%matplotlib inline\n",
        "%config InlineBackend.figure_format = 'retina'\n",
        "\n",
        "from aicsimageio import AICSImage\n",
        "from csbdeep.utils import Path, download_and_extract_zip_file, plot_some\n",
        "from csbdeep.io import save_tiff_imagej_compatible\n",
        "from csbdeep.models import CARE"
      ]
    },
    {
      "cell_type": "code",
      "execution_count": null,
      "metadata": {
        "id": "BUazkbfdw3SG",
        "colab": {
          "base_uri": "https://localhost:8080/"
        },
        "outputId": "02b9597a-b44a-48e5-9805-291ffea43700"
      },
      "outputs": [
        {
          "output_type": "stream",
          "name": "stdout",
          "text": [
            "(1, 1, 1658, 718, 2046)\n"
          ]
        }
      ],
      "source": [
        "\n",
        "\n",
        "path = r'/content/drive/MyDrive/lattice_data/fixed/CARE/raw_data/b2-2a_2c_pos6-01-_raw_lifeact_T0.czi'\n",
        "\n",
        "tif = False\n",
        "czi = True\n",
        "\n",
        "if tif:\n",
        "  img = tiff.imread(path)\n",
        "elif czi:\n",
        "  img = AICSImage(path).data\n",
        "\n",
        "\n",
        "print(img.shape)\n",
        "img = img[0,0,...]\n",
        "axes = 'ZYX'"
      ]
    },
    {
      "cell_type": "code",
      "execution_count": null,
      "metadata": {
        "id": "GedA6RKiwsPE",
        "colab": {
          "base_uri": "https://localhost:8080/"
        },
        "outputId": "e08e58d1-24da-43b8-c04e-351ad925f5b2"
      },
      "outputs": [
        {
          "output_type": "stream",
          "name": "stdout",
          "text": [
            "Loading network weights from 'weights_best.h5'.\n"
          ]
        }
      ],
      "source": [
        "\n",
        "model = CARE(config=None, name='my_model', basedir='/content/drive/MyDrive/CARE/models', )"
      ]
    },
    {
      "cell_type": "code",
      "source": [
        "%%time\n",
        "restored = model.predict(img, axes, n_tiles=(25,11,32))"
      ],
      "metadata": {
        "colab": {
          "base_uri": "https://localhost:8080/"
        },
        "id": "7Ke98I8bbv9B",
        "outputId": "acf4768b-ae77-41ea-83f4-5bfb50998255"
      },
      "execution_count": null,
      "outputs": [
        {
          "output_type": "stream",
          "name": "stderr",
          "text": [
            "100%|██████████| 9152/9152 [21:13<00:00,  7.19it/s]\n"
          ]
        },
        {
          "output_type": "stream",
          "name": "stdout",
          "text": [
            "CPU times: user 22min 20s, sys: 1min 4s, total: 23min 25s\n",
            "Wall time: 22min 43s\n"
          ]
        }
      ]
    },
    {
      "cell_type": "code",
      "source": [
        "print(restored.shape)\n",
        "import tifffile as tiff\n",
        "import numpy as np\n",
        "\n",
        "\n",
        "min_val = restored.min()\n",
        "max_val = restored.max()\n",
        "\n",
        "restored_norm = (restored - min_val) / (max_val - min_val)\n",
        "restored_8bit = (65535 * np.clip(restored_norm, 0, 1)).astype(np.uint16)\n",
        "\n",
        "tiff.imwrite('/content/drive/MyDrive/lattice_data/fixed/CARE/raw_data/for_training/outputs/timelapset0.tif' , restored_8bit)"
      ],
      "metadata": {
        "id": "cq_lgDdJcakO"
      },
      "execution_count": null,
      "outputs": []
    },
    {
      "cell_type": "code",
      "source": [
        "from tifffile import imread\n",
        "import numpy as np\n",
        "restored = imread(r'/content/drive/MyDrive/lattice_data/fixed/CARE/raw_data/for_training/outputs/whole_predict.tif')\n",
        "print(restored.shape)"
      ],
      "metadata": {
        "id": "S5hqb-4pbuS4",
        "colab": {
          "base_uri": "https://localhost:8080/",
          "height": 438
        },
        "outputId": "4f3ccb01-883b-4417-cdd8-c387245448b9"
      },
      "execution_count": null,
      "outputs": [
        {
          "output_type": "error",
          "ename": "KeyboardInterrupt",
          "evalue": "",
          "traceback": [
            "\u001b[0;31m---------------------------------------------------------------------------\u001b[0m",
            "\u001b[0;31mKeyboardInterrupt\u001b[0m                         Traceback (most recent call last)",
            "\u001b[0;32m/tmp/ipython-input-1645777229.py\u001b[0m in \u001b[0;36m<cell line: 0>\u001b[0;34m()\u001b[0m\n\u001b[1;32m      1\u001b[0m \u001b[0;32mfrom\u001b[0m \u001b[0mtifffile\u001b[0m \u001b[0;32mimport\u001b[0m \u001b[0mimread\u001b[0m\u001b[0;34m\u001b[0m\u001b[0;34m\u001b[0m\u001b[0m\n\u001b[1;32m      2\u001b[0m \u001b[0;32mimport\u001b[0m \u001b[0mnumpy\u001b[0m \u001b[0;32mas\u001b[0m \u001b[0mnp\u001b[0m\u001b[0;34m\u001b[0m\u001b[0;34m\u001b[0m\u001b[0m\n\u001b[0;32m----> 3\u001b[0;31m \u001b[0mrestored\u001b[0m \u001b[0;34m=\u001b[0m \u001b[0mimread\u001b[0m\u001b[0;34m(\u001b[0m\u001b[0;34mr'/content/drive/MyDrive/lattice_data/fixed/CARE/raw_data/for_training/outputs/whole_predict.tif'\u001b[0m\u001b[0;34m)\u001b[0m\u001b[0;34m\u001b[0m\u001b[0;34m\u001b[0m\u001b[0m\n\u001b[0m\u001b[1;32m      4\u001b[0m \u001b[0mprint\u001b[0m\u001b[0;34m(\u001b[0m\u001b[0mrestored\u001b[0m\u001b[0;34m.\u001b[0m\u001b[0mshape\u001b[0m\u001b[0;34m)\u001b[0m\u001b[0;34m\u001b[0m\u001b[0;34m\u001b[0m\u001b[0m\n",
            "\u001b[0;32m/usr/local/lib/python3.12/dist-packages/tifffile/tifffile.py\u001b[0m in \u001b[0;36mimread\u001b[0;34m(files, aszarr, key, series, level, squeeze, maxworkers, mode, name, offset, size, pattern, axesorder, categories, imread, sort, container, chunkshape, dtype, axestiled, ioworkers, chunkmode, fillvalue, zattrs, multiscales, omexml, out, out_inplace, _multifile, _useframes, **kwargs)\u001b[0m\n\u001b[1;32m   1062\u001b[0m                         \u001b[0mmultiscales\u001b[0m\u001b[0;34m=\u001b[0m\u001b[0mmultiscales\u001b[0m\u001b[0;34m,\u001b[0m\u001b[0;34m\u001b[0m\u001b[0;34m\u001b[0m\u001b[0m\n\u001b[1;32m   1063\u001b[0m                     )\n\u001b[0;32m-> 1064\u001b[0;31m                 return tif.asarray(\n\u001b[0m\u001b[1;32m   1065\u001b[0m                     \u001b[0mkey\u001b[0m\u001b[0;34m=\u001b[0m\u001b[0mkey\u001b[0m\u001b[0;34m,\u001b[0m\u001b[0;34m\u001b[0m\u001b[0;34m\u001b[0m\u001b[0m\n\u001b[1;32m   1066\u001b[0m                     \u001b[0mseries\u001b[0m\u001b[0;34m=\u001b[0m\u001b[0mseries\u001b[0m\u001b[0;34m,\u001b[0m\u001b[0;34m\u001b[0m\u001b[0;34m\u001b[0m\u001b[0m\n",
            "\u001b[0;32m/usr/local/lib/python3.12/dist-packages/tifffile/tifffile.py\u001b[0m in \u001b[0;36masarray\u001b[0;34m(self, key, series, level, squeeze, out, maxworkers)\u001b[0m\n\u001b[1;32m   4193\u001b[0m                 \u001b[0;32mif\u001b[0m \u001b[0mout\u001b[0m \u001b[0;32mis\u001b[0m \u001b[0;32mnot\u001b[0m \u001b[0;32mNone\u001b[0m\u001b[0;34m:\u001b[0m\u001b[0;34m\u001b[0m\u001b[0;34m\u001b[0m\u001b[0m\n\u001b[1;32m   4194\u001b[0m                     \u001b[0mout\u001b[0m \u001b[0;34m=\u001b[0m \u001b[0mcreate_output\u001b[0m\u001b[0;34m(\u001b[0m\u001b[0mout\u001b[0m\u001b[0;34m,\u001b[0m \u001b[0mshape\u001b[0m\u001b[0;34m,\u001b[0m \u001b[0mseries\u001b[0m\u001b[0;34m.\u001b[0m\u001b[0mdtype\u001b[0m\u001b[0;34m)\u001b[0m\u001b[0;34m\u001b[0m\u001b[0;34m\u001b[0m\u001b[0m\n\u001b[0;32m-> 4195\u001b[0;31m                 result = self.filehandle.read_array(\n\u001b[0m\u001b[1;32m   4196\u001b[0m                     \u001b[0mtypecode\u001b[0m\u001b[0;34m,\u001b[0m\u001b[0;34m\u001b[0m\u001b[0;34m\u001b[0m\u001b[0m\n\u001b[1;32m   4197\u001b[0m                     \u001b[0mseries\u001b[0m\u001b[0;34m.\u001b[0m\u001b[0msize\u001b[0m\u001b[0;34m,\u001b[0m\u001b[0;34m\u001b[0m\u001b[0;34m\u001b[0m\u001b[0m\n",
            "\u001b[0;32m/usr/local/lib/python3.12/dist-packages/tifffile/tifffile.py\u001b[0m in \u001b[0;36mread_array\u001b[0;34m(self, dtype, count, offset, out)\u001b[0m\n\u001b[1;32m  13907\u001b[0m \u001b[0;34m\u001b[0m\u001b[0m\n\u001b[1;32m  13908\u001b[0m         \u001b[0;32mtry\u001b[0m\u001b[0;34m:\u001b[0m\u001b[0;34m\u001b[0m\u001b[0;34m\u001b[0m\u001b[0m\n\u001b[0;32m> 13909\u001b[0;31m             \u001b[0mn\u001b[0m \u001b[0;34m=\u001b[0m \u001b[0mself\u001b[0m\u001b[0;34m.\u001b[0m\u001b[0m_fh\u001b[0m\u001b[0;34m.\u001b[0m\u001b[0mreadinto\u001b[0m\u001b[0;34m(\u001b[0m\u001b[0mresult\u001b[0m\u001b[0;34m)\u001b[0m  \u001b[0;31m# type: ignore\u001b[0m\u001b[0;34m\u001b[0m\u001b[0;34m\u001b[0m\u001b[0m\n\u001b[0m\u001b[1;32m  13910\u001b[0m         \u001b[0;32mexcept\u001b[0m \u001b[0mAttributeError\u001b[0m\u001b[0;34m:\u001b[0m\u001b[0;34m\u001b[0m\u001b[0;34m\u001b[0m\u001b[0m\n\u001b[1;32m  13911\u001b[0m             result[:] = numpy.frombuffer(self._fh.read(nbytes), dtype).reshape(\n",
            "\u001b[0;31mKeyboardInterrupt\u001b[0m: "
          ]
        }
      ]
    }
  ],
  "metadata": {
    "colab": {
      "provenance": [],
      "machine_shape": "hm",
      "gpuType": "L4"
    },
    "kernelspec": {
      "display_name": "Python 3",
      "name": "python3"
    },
    "language_info": {
      "name": "python"
    },
    "accelerator": "GPU"
  },
  "nbformat": 4,
  "nbformat_minor": 0
}