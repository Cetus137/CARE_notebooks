{
 "cells": [
  {
   "cell_type": "markdown",
   "id": "08d882ff",
   "metadata": {},
   "source": [
    "# CARE Data Generation Notebook\n",
    "\n",
    "This notebook generates training patches for the CARE model from raw data.\n",
    "\n",
    "## Setup\n",
    "\n",
    "Make sure you have the required packages installed:\n",
    "```bash\n",
    "pip install tensorflow csbdeep tifffile numpy matplotlib\n",
    "```\n",
    "\n",
    "For GPU support with TensorFlow, ensure you have the appropriate CUDA drivers installed."
   ]
  },
  {
   "cell_type": "code",
   "execution_count": null,
   "id": "9a487632",
   "metadata": {},
   "outputs": [],
   "source": [
    "import tensorflow as tf\n",
    "print(\"GPUs:\", tf.config.list_physical_devices('GPU'))"
   ]
  },
  {
   "cell_type": "code",
   "execution_count": null,
   "id": "1161caf4",
   "metadata": {},
   "outputs": [],
   "source": [
    "from __future__ import print_function, unicode_literals, absolute_import, division\n",
    "import numpy as np\n",
    "import matplotlib.pyplot as plt\n",
    "%matplotlib inline\n",
    "\n",
    "from tifffile import imread\n",
    "from csbdeep.utils import download_and_extract_zip_file, plot_some\n",
    "from csbdeep.data import RawData, create_patches"
   ]
  },
  {
   "cell_type": "markdown",
   "id": "3508038e",
   "metadata": {},
   "source": [
    "### Create Training Patches\n",
    "\n",
    "**Note:** Update the `basepath` below to match your local directory structure."
   ]
  },
  {
   "cell_type": "code",
   "execution_count": null,
   "id": "0c403927",
   "metadata": {},
   "outputs": [],
   "source": [
    "# TODO: Update this path to match your local directory structure\n",
    "raw_data = RawData.from_folder(\n",
    "    basepath    = 'path/to/your/data/fixed/CARE/raw_data/for_training_5ms',\n",
    "    source_dirs = ['noisy'],\n",
    "    target_dir  = 'clean',\n",
    "    axes        = 'ZYX',\n",
    ")\n",
    "\n",
    "X, Y, XY_axes = create_patches(\n",
    "    raw_data            = raw_data,\n",
    "    patch_size          = (64,64,64),\n",
    "    n_patches_per_image = 2000,\n",
    "    save_file           = 'path/to/your/data/fixed/CARE/raw_data/for_training_5ms/patches/',\n",
    ")"
   ]
  },
  {
   "cell_type": "markdown",
   "id": "33ff7c8e",
   "metadata": {},
   "source": [
    "### Data Augmentation Functions"
   ]
  },
  {
   "cell_type": "code",
   "execution_count": null,
   "id": "9db1605c",
   "metadata": {},
   "outputs": [],
   "source": [
    "import numpy as np\n",
    "import random\n",
    "import tifffile\n",
    "import os\n",
    "\n",
    "# --- intensity augmentations ---\n",
    "def random_gamma_contrast(img, gamma_range=(0.5, 2), contrast_range=(0.8, 1.2), p=0.8):\n",
    "    print(img.min())\n",
    "    print(img.max())\n",
    "    #if random.random() > p:\n",
    "    #    return img.astype(np.float32)\n",
    "    img = img - img.min()\n",
    "    img = img / img.max()\n",
    "    print(img.min())\n",
    "    print(img.max())\n",
    "    gamma = random.uniform(*gamma_range)\n",
    "    contrast = random.uniform(*contrast_range)\n",
    "\n",
    "    img = np.power(img, gamma)\n",
    "    #mean = np.mean(img)\n",
    "    #img = (img - mean) * contrast + mean\n",
    "    return np.clip(img, 0, 1).astype(np.float32)\n",
    "\n",
    "# --- geometric augmentations ---\n",
    "def random_flip_rotate(img, axes=(0,1,2)):\n",
    "    \"\"\"Randomly flip and rotate 3D patch.\"\"\"\n",
    "    for ax in axes:\n",
    "        if random.random() < 0.5:\n",
    "            img = np.flip(img, axis=ax)\n",
    "    k = random.randint(0, 3)\n",
    "    img = np.rot90(img, k, axes=(1,2))  # rotate in YX plane\n",
    "    return img\n",
    "\n",
    "\n",
    "# --- combined augmentation ---\n",
    "def augment_patch_pair(x, y):\n",
    "    \"\"\"Apply augmentations to a patch pair (input, target).\"\"\"\n",
    "    # geometric\n",
    "    x = random_flip_rotate(x)\n",
    "    y = random_flip_rotate(y)\n",
    "    # intensity\n",
    "    x = random_gamma_contrast(x)\n",
    "    return x, y"
   ]
  },
  {
   "cell_type": "markdown",
   "id": "3bfe145a",
   "metadata": {},
   "source": [
    "### Apply Augmentations\n",
    "\n",
    "**Note:** Update the `patch_file` path below."
   ]
  },
  {
   "cell_type": "code",
   "execution_count": null,
   "id": "44b37917",
   "metadata": {},
   "outputs": [],
   "source": [
    "# TODO: Update this path to your patches file\n",
    "patch_file = 'path/to/your/data/fixed/CARE/raw_data/for_training/patches/patches.npz'\n",
    "\n",
    "data = np.load(patch_file)\n",
    "X = data['X']\n",
    "Y = data['Y']\n",
    "print(f\"Loaded patches: {X.shape} input, {Y.shape} target\")\n",
    "\n",
    "# Apply augmentations\n",
    "augmented_X, augmented_Y = [], []\n",
    "n_aug = 2  # number of augmentations per original patch\n",
    "print(len(X))\n",
    "for i in range(len(X)):\n",
    "    print(i)\n",
    "    for _ in range(n_aug):\n",
    "        xa, ya = augment_patch_pair(X[i], Y[i])\n",
    "\n",
    "        #print(xa.min(), xa.max())\n",
    "        #print(ya)\n",
    "        augmented_X.append(xa)\n",
    "        augmented_Y.append(ya)\n",
    "\n",
    "augmented_X = np.stack(augmented_X)\n",
    "augmented_Y = np.stack(augmented_Y)\n",
    "\n",
    "# Combine with originals\n",
    "X_all = np.concatenate([X, augmented_X], axis=0)\n",
    "Y_all = np.concatenate([Y, augmented_Y], axis=0)\n",
    "print(\"X_all shape:\", X_all.shape, \"dtype:\", X_all.dtype)\n",
    "print(\"Y_all shape:\", Y_all.shape, \"dtype:\", Y_all.dtype)\n",
    "print(\"Number of NaNs in X_all:\", np.isnan(X_all).sum())\n",
    "print(\"Number of NaNs in Y_all:\", np.isnan(Y_all).sum())\n",
    "\n",
    "print(f\"Final patch set shape: {X_all.shape}\")\n",
    "\n",
    "# Save augmented patch set\n",
    "# TODO: Update this path\n",
    "save_path = 'path/to/your/data/fixed/CARE/raw_data/for_training/patches/augmented_patches_2.npz'\n",
    "\n",
    "if X_all.shape[1] == 1:\n",
    "    X_all = X_all[:, :, :, :, :]\n",
    "    Y_all = Y_all[:, :, :, :, :]\n",
    "\n",
    "# Specify axes string for load_training_data\n",
    "# Batch dimension N is implicitly handled by load_training_data\n",
    "axes = 'CZYX'\n",
    "\n",
    "# Save manually\n",
    "np.savez(str(save_path), X=X_all.astype(np.float32), Y=Y_all.astype(np.float32), axes=axes)\n",
    "print(f\"✅ Saved {X_all.shape[0]} patches to {save_path}\")"
   ]
  },
  {
   "cell_type": "markdown",
   "id": "3b2ca833",
   "metadata": {},
   "source": [
    "### Visualize Patches"
   ]
  },
  {
   "cell_type": "code",
   "execution_count": null,
   "id": "415f17f8",
   "metadata": {},
   "outputs": [],
   "source": [
    "for i in range(20):\n",
    "    plt.figure(figsize=(16,4))\n",
    "    sl = slice(8*i, 8*(i+1)), 0\n",
    "    plot_some(X[sl],Y[sl],title_list=[np.arange(sl[0].start,sl[0].stop)])\n",
    "    plt.show()\n",
    "None;"
   ]
  }
 ],
 "metadata": {
  "language_info": {
   "name": "python"
  }
 },
 "nbformat": 4,
 "nbformat_minor": 5
}
