{
 "cells": [
  {
   "cell_type": "markdown",
   "id": "7c065f83",
   "metadata": {},
   "source": [
    "# CARE Prediction Notebook\n",
    "\n",
    "This notebook uses a trained CARE model to restore/denoise images.\n",
    "\n",
    "## Setup\n",
    "\n",
    "Make sure you have the required packages installed:\n",
    "```bash\n",
    "pip install tensorflow csbdeep tifffile numpy matplotlib aicsimageio aicspylibczi\n",
    "```"
   ]
  },
  {
   "cell_type": "code",
   "execution_count": null,
   "id": "79be00be",
   "metadata": {},
   "outputs": [],
   "source": [
    "import tensorflow as tf\n",
    "print(\"GPUs:\", tf.config.list_physical_devices('GPU'))\n",
    "\n",
    "from __future__ import print_function, unicode_literals, absolute_import, division\n",
    "import numpy as np\n",
    "import matplotlib.pyplot as plt\n",
    "import tifffile as tiff\n",
    "%matplotlib inline\n",
    "\n",
    "from aicsimageio import AICSImage\n",
    "from csbdeep.utils import Path, download_and_extract_zip_file, plot_some\n",
    "from csbdeep.io import save_tiff_imagej_compatible\n",
    "from csbdeep.models import CARE"
   ]
  },
  {
   "cell_type": "markdown",
   "id": "7ffb91bd",
   "metadata": {},
   "source": [
    "### Load Input Image\n",
    "\n",
    "**Note:** Update the `path` below to match your input image location."
   ]
  },
  {
   "cell_type": "code",
   "execution_count": null,
   "id": "4f358272",
   "metadata": {},
   "outputs": [],
   "source": [
    "# TODO: Update this path to your input image\n",
    "path = r'path/to/your/data/fixed/CARE/raw_data/b2-2a_2c_pos6-01-_raw_lifeact_T0.czi'\n",
    "\n",
    "tif = False\n",
    "czi = True\n",
    "\n",
    "if tif:\n",
    "    img = tiff.imread(path)\n",
    "elif czi:\n",
    "    img = AICSImage(path).data\n",
    "\n",
    "print(img.shape)\n",
    "img = img[0,0,...]\n",
    "axes = 'ZYX'"
   ]
  },
  {
   "cell_type": "markdown",
   "id": "52f00a98",
   "metadata": {},
   "source": [
    "### Load Trained Model\n",
    "\n",
    "**Note:** Update the `basedir` below to match where your trained model is saved."
   ]
  },
  {
   "cell_type": "code",
   "execution_count": null,
   "id": "1500a7f6",
   "metadata": {},
   "outputs": [],
   "source": [
    "# TODO: Update basedir to your model location\n",
    "model = CARE(config=None, name='my_model', basedir='path/to/your/CARE/models')"
   ]
  },
  {
   "cell_type": "markdown",
   "id": "7998edb8",
   "metadata": {},
   "source": [
    "### Run Prediction\n",
    "\n",
    "This may take some time depending on your image size and hardware."
   ]
  },
  {
   "cell_type": "code",
   "execution_count": null,
   "id": "2f95e7aa",
   "metadata": {},
   "outputs": [],
   "source": [
    "%%time\n",
    "restored = model.predict(img, axes, n_tiles=(25,11,32))"
   ]
  },
  {
   "cell_type": "markdown",
   "id": "f377fd4b",
   "metadata": {},
   "source": [
    "### Save Restored Image\n",
    "\n",
    "**Note:** Update the output path below."
   ]
  },
  {
   "cell_type": "code",
   "execution_count": null,
   "id": "34b9f41f",
   "metadata": {},
   "outputs": [],
   "source": [
    "print(restored.shape)\n",
    "import tifffile as tiff\n",
    "import numpy as np\n",
    "\n",
    "min_val = restored.min()\n",
    "max_val = restored.max()\n",
    "\n",
    "restored_norm = (restored - min_val) / (max_val - min_val)\n",
    "restored_8bit = (65535 * np.clip(restored_norm, 0, 1)).astype(np.uint16)\n",
    "\n",
    "# TODO: Update this output path\n",
    "tiff.imwrite('path/to/your/data/fixed/CARE/raw_data/for_training/outputs/timelapset0.tif', restored_8bit)"
   ]
  },
  {
   "cell_type": "markdown",
   "id": "77e7eb54",
   "metadata": {},
   "source": [
    "### Load and Verify Saved Image (Optional)"
   ]
  },
  {
   "cell_type": "code",
   "execution_count": null,
   "id": "dcf8da61",
   "metadata": {},
   "outputs": [],
   "source": [
    "from tifffile import imread\n",
    "import numpy as np\n",
    "\n",
    "# TODO: Update this path to verify your output\n",
    "restored = imread(r'path/to/your/data/fixed/CARE/raw_data/for_training/outputs/whole_predict.tif')\n",
    "print(restored.shape)"
   ]
  }
 ],
 "metadata": {
  "language_info": {
   "name": "python"
  }
 },
 "nbformat": 4,
 "nbformat_minor": 5
}
