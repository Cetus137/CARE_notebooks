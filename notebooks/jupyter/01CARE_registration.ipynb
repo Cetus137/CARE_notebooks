{
 "cells": [
  {
   "cell_type": "markdown",
   "id": "33a4e36c",
   "metadata": {},
   "source": [
    "# CARE Registration Notebook\n",
    "\n",
    "This notebook handles image registration for CARE (Content-Aware Image Restoration) pipeline.\n",
    "\n",
    "## Setup\n",
    "\n",
    "Make sure you have the required packages installed:\n",
    "```bash\n",
    "pip install SimpleITK tifffile matplotlib aicsimageio aicspylibczi scipy numpy\n",
    "```"
   ]
  },
  {
   "cell_type": "code",
   "execution_count": 1,
   "id": "161f17d2",
   "metadata": {},
   "outputs": [],
   "source": [
    "import numpy as np\n",
    "import SimpleITK as sitk\n",
    "import matplotlib.pyplot as plt\n",
    "from tifffile import imread, imwrite\n",
    "import dask.array as da\n",
    "from aicsimageio import AICSImage\n",
    "\n",
    "# Configure matplotlib for inline display\n",
    "%matplotlib inline"
   ]
  },
  {
   "cell_type": "markdown",
   "id": "52c5ce45",
   "metadata": {},
   "source": [
    "### Functions"
   ]
  },
  {
   "cell_type": "code",
   "execution_count": 4,
   "id": "38aecb74",
   "metadata": {},
   "outputs": [],
   "source": [
    "from scipy.ndimage import zoom\n",
    "\n",
    "def downsample_volume(volume, z_factor=0.5, xy_factor=0.5, order=1):\n",
    "    \"\"\"\n",
    "    Downsample a 3D volume (Z, Y, X) by given factors.\n",
    "\n",
    "    Parameters\n",
    "    ----------\n",
    "    volume : np.ndarray\n",
    "        3D image (Z, Y, X) to downsample.\n",
    "    z_factor : float\n",
    "        Scaling factor along Z (e.g. 0.5 = half as many slices).\n",
    "    xy_factor : float\n",
    "        Scaling factor along Y and X (e.g. 0.25 = 4× smaller laterally).\n",
    "    order : int\n",
    "        Interpolation order: 0=nearest, 1=linear, 3=cubic.\n",
    "\n",
    "    Returns\n",
    "    -------\n",
    "    small : np.ndarray\n",
    "        Downsampled 3D volume.\n",
    "    \"\"\"\n",
    "    assert volume.ndim == 3, \"Input must be 3D (Z, Y, X)\"\n",
    "    zoom_factors = (z_factor, xy_factor, xy_factor)\n",
    "    small = zoom(volume, zoom_factors, order=order)\n",
    "    return small.astype(np.float32)\n",
    "\n",
    "\n",
    "def load_czi(path):\n",
    "    \"\"\"Load and normalize CZI image file.\"\"\"\n",
    "    # Load image with AICSImageIO\n",
    "    img = AICSImage(path)\n",
    "\n",
    "    data = img.get_image_data()\n",
    "\n",
    "    # typical shape: (1,1,1,Z,Y,X,1)\n",
    "    data = np.squeeze(data)\n",
    "    # normalize 0–1\n",
    "    data = data.astype(np.float32)\n",
    "    data = (data - data.min()) / (data.max() - data.min() + 1e-8)\n",
    "    return data"
   ]
  },
  {
   "cell_type": "markdown",
   "id": "b286c317",
   "metadata": {},
   "source": [
    "### Configuration and Execution\n",
    "\n",
    "**Note:** Update the file paths below to match your local directory structure."
   ]
  },
  {
   "cell_type": "code",
   "execution_count": 5,
   "id": "73def312",
   "metadata": {},
   "outputs": [
    {
     "name": "stdout",
     "output_type": "stream",
     "text": [
      "/Volumes/WDRIVE/Group Fritzsche/Ed/lattice/08102025_fixed_LN_CARE/CARE_data/raw\n"
     ]
    },
    {
     "ename": "KeyboardInterrupt",
     "evalue": "",
     "output_type": "error",
     "traceback": [
      "\u001b[0;31m---------------------------------------------------------------------------\u001b[0m",
      "\u001b[0;31mKeyboardInterrupt\u001b[0m                         Traceback (most recent call last)",
      "Cell \u001b[0;32mIn[5], line 12\u001b[0m\n\u001b[1;32m      9\u001b[0m name     \u001b[38;5;241m=\u001b[39m os\u001b[38;5;241m.\u001b[39mpath\u001b[38;5;241m.\u001b[39mbasename(moving_path[:\u001b[38;5;241m-\u001b[39m\u001b[38;5;241m4\u001b[39m])\n\u001b[1;32m     10\u001b[0m \u001b[38;5;28mprint\u001b[39m(dir_path)\n\u001b[0;32m---> 12\u001b[0m fixed_np_full  \u001b[38;5;241m=\u001b[39m \u001b[43mload_czi\u001b[49m\u001b[43m(\u001b[49m\u001b[43mfixed_path\u001b[49m\u001b[43m)\u001b[49m\n\u001b[1;32m     13\u001b[0m \u001b[38;5;28mprint\u001b[39m(fixed_np_full\u001b[38;5;241m.\u001b[39mdtype)\n\u001b[1;32m     14\u001b[0m \u001b[38;5;28mprint\u001b[39m(fixed_np_full\u001b[38;5;241m.\u001b[39mshape)\n",
      "Cell \u001b[0;32mIn[4], line 34\u001b[0m, in \u001b[0;36mload_czi\u001b[0;34m(path)\u001b[0m\n\u001b[1;32m     31\u001b[0m \u001b[38;5;66;03m# Load image with AICSImageIO\u001b[39;00m\n\u001b[1;32m     32\u001b[0m img \u001b[38;5;241m=\u001b[39m AICSImage(path)\n\u001b[0;32m---> 34\u001b[0m data \u001b[38;5;241m=\u001b[39m \u001b[43mimg\u001b[49m\u001b[38;5;241;43m.\u001b[39;49m\u001b[43mget_image_data\u001b[49m\u001b[43m(\u001b[49m\u001b[43m)\u001b[49m\n\u001b[1;32m     36\u001b[0m \u001b[38;5;66;03m# typical shape: (1,1,1,Z,Y,X,1)\u001b[39;00m\n\u001b[1;32m     37\u001b[0m data \u001b[38;5;241m=\u001b[39m np\u001b[38;5;241m.\u001b[39msqueeze(data)\n",
      "File \u001b[0;32m/opt/anaconda3/envs/care_env/lib/python3.9/site-packages/aicsimageio/aics_image.py:724\u001b[0m, in \u001b[0;36mAICSImage.get_image_data\u001b[0;34m(self, dimension_order_out, **kwargs)\u001b[0m\n\u001b[1;32m    722\u001b[0m \u001b[38;5;66;03m# If no out orientation, simply return current data as dask array\u001b[39;00m\n\u001b[1;32m    723\u001b[0m \u001b[38;5;28;01mif\u001b[39;00m dimension_order_out \u001b[38;5;129;01mis\u001b[39;00m \u001b[38;5;28;01mNone\u001b[39;00m:\n\u001b[0;32m--> 724\u001b[0m     \u001b[38;5;28;01mreturn\u001b[39;00m \u001b[38;5;28;43mself\u001b[39;49m\u001b[38;5;241;43m.\u001b[39;49m\u001b[43mdata\u001b[49m\n\u001b[1;32m    726\u001b[0m \u001b[38;5;66;03m# Transform and return\u001b[39;00m\n\u001b[1;32m    727\u001b[0m \u001b[38;5;28;01mreturn\u001b[39;00m transforms\u001b[38;5;241m.\u001b[39mreshape_data(\n\u001b[1;32m    728\u001b[0m     data\u001b[38;5;241m=\u001b[39m\u001b[38;5;28mself\u001b[39m\u001b[38;5;241m.\u001b[39mdata,\n\u001b[1;32m    729\u001b[0m     given_dims\u001b[38;5;241m=\u001b[39m\u001b[38;5;28mself\u001b[39m\u001b[38;5;241m.\u001b[39mdims\u001b[38;5;241m.\u001b[39morder,\n\u001b[1;32m    730\u001b[0m     return_dims\u001b[38;5;241m=\u001b[39mdimension_order_out,\n\u001b[1;32m    731\u001b[0m     \u001b[38;5;241m*\u001b[39m\u001b[38;5;241m*\u001b[39mkwargs,\n\u001b[1;32m    732\u001b[0m )\n",
      "File \u001b[0;32m/opt/anaconda3/envs/care_env/lib/python3.9/site-packages/aicsimageio/aics_image.py:542\u001b[0m, in \u001b[0;36mAICSImage.data\u001b[0;34m(self)\u001b[0m\n\u001b[1;32m    529\u001b[0m \u001b[38;5;129m@property\u001b[39m\n\u001b[1;32m    530\u001b[0m \u001b[38;5;28;01mdef\u001b[39;00m\u001b[38;5;250m \u001b[39m\u001b[38;5;21mdata\u001b[39m(\u001b[38;5;28mself\u001b[39m) \u001b[38;5;241m-\u001b[39m\u001b[38;5;241m>\u001b[39m np\u001b[38;5;241m.\u001b[39mndarray:\n\u001b[1;32m    531\u001b[0m \u001b[38;5;250m    \u001b[39m\u001b[38;5;124;03m\"\"\"\u001b[39;00m\n\u001b[1;32m    532\u001b[0m \u001b[38;5;124;03m    Returns\u001b[39;00m\n\u001b[1;32m    533\u001b[0m \u001b[38;5;124;03m    -------\u001b[39;00m\n\u001b[0;32m   (...)\u001b[0m\n\u001b[1;32m    540\u001b[0m \u001b[38;5;124;03m    Recommended to use `dask_data` for large mosaic images.\u001b[39;00m\n\u001b[1;32m    541\u001b[0m \u001b[38;5;124;03m    \"\"\"\u001b[39;00m\n\u001b[0;32m--> 542\u001b[0m     \u001b[38;5;28;01mreturn\u001b[39;00m \u001b[38;5;28;43mself\u001b[39;49m\u001b[38;5;241;43m.\u001b[39;49m\u001b[43mxarray_data\u001b[49m\u001b[38;5;241m.\u001b[39mdata\n",
      "File \u001b[0;32m/opt/anaconda3/envs/care_env/lib/python3.9/site-packages/aicsimageio/aics_image.py:501\u001b[0m, in \u001b[0;36mAICSImage.xarray_data\u001b[0;34m(self)\u001b[0m\n\u001b[1;32m    493\u001b[0m         \u001b[38;5;28mself\u001b[39m\u001b[38;5;241m.\u001b[39m_xarray_data \u001b[38;5;241m=\u001b[39m (\n\u001b[1;32m    494\u001b[0m             \u001b[38;5;28mself\u001b[39m\u001b[38;5;241m.\u001b[39m_transform_data_array_to_aics_image_standard(\n\u001b[1;32m    495\u001b[0m                 \u001b[38;5;28mself\u001b[39m\u001b[38;5;241m.\u001b[39mreader\u001b[38;5;241m.\u001b[39mxarray_data\n\u001b[1;32m    496\u001b[0m             )\n\u001b[1;32m    497\u001b[0m         )\n\u001b[1;32m    499\u001b[0m \u001b[38;5;28;01melse\u001b[39;00m:\n\u001b[1;32m    500\u001b[0m     \u001b[38;5;28mself\u001b[39m\u001b[38;5;241m.\u001b[39m_xarray_data \u001b[38;5;241m=\u001b[39m \u001b[38;5;28mself\u001b[39m\u001b[38;5;241m.\u001b[39m_transform_data_array_to_aics_image_standard(\n\u001b[0;32m--> 501\u001b[0m         \u001b[38;5;28;43mself\u001b[39;49m\u001b[38;5;241;43m.\u001b[39;49m\u001b[43mreader\u001b[49m\u001b[38;5;241;43m.\u001b[39;49m\u001b[43mxarray_data\u001b[49m\n\u001b[1;32m    502\u001b[0m     )\n\u001b[1;32m    504\u001b[0m \u001b[38;5;66;03m# Remake the delayed xarray dataarray object using a rechunked dask array\u001b[39;00m\n\u001b[1;32m    505\u001b[0m \u001b[38;5;66;03m# from the just retrieved in-memory xarray dataarray\u001b[39;00m\n\u001b[1;32m    506\u001b[0m \u001b[38;5;28mself\u001b[39m\u001b[38;5;241m.\u001b[39m_xarray_dask_data \u001b[38;5;241m=\u001b[39m xr\u001b[38;5;241m.\u001b[39mDataArray(\n\u001b[1;32m    507\u001b[0m     da\u001b[38;5;241m.\u001b[39mfrom_array(\u001b[38;5;28mself\u001b[39m\u001b[38;5;241m.\u001b[39m_xarray_data\u001b[38;5;241m.\u001b[39mdata),\n\u001b[1;32m    508\u001b[0m     dims\u001b[38;5;241m=\u001b[39m\u001b[38;5;28mself\u001b[39m\u001b[38;5;241m.\u001b[39m_xarray_data\u001b[38;5;241m.\u001b[39mdims,\n\u001b[1;32m    509\u001b[0m     coords\u001b[38;5;241m=\u001b[39m\u001b[38;5;28mself\u001b[39m\u001b[38;5;241m.\u001b[39m_xarray_data\u001b[38;5;241m.\u001b[39mcoords,\n\u001b[1;32m    510\u001b[0m     attrs\u001b[38;5;241m=\u001b[39m\u001b[38;5;28mself\u001b[39m\u001b[38;5;241m.\u001b[39m_xarray_data\u001b[38;5;241m.\u001b[39mattrs,\n\u001b[1;32m    511\u001b[0m )\n",
      "File \u001b[0;32m/opt/anaconda3/envs/care_env/lib/python3.9/site-packages/aicsimageio/readers/reader.py:372\u001b[0m, in \u001b[0;36mReader.xarray_data\u001b[0;34m(self)\u001b[0m\n\u001b[1;32m    365\u001b[0m \u001b[38;5;250m\u001b[39m\u001b[38;5;124;03m\"\"\"\u001b[39;00m\n\u001b[1;32m    366\u001b[0m \u001b[38;5;124;03mReturns\u001b[39;00m\n\u001b[1;32m    367\u001b[0m \u001b[38;5;124;03m-------\u001b[39;00m\n\u001b[1;32m    368\u001b[0m \u001b[38;5;124;03mxarray_data: xr.DataArray\u001b[39;00m\n\u001b[1;32m    369\u001b[0m \u001b[38;5;124;03m    The fully read image and metadata as an annotated data array.\u001b[39;00m\n\u001b[1;32m    370\u001b[0m \u001b[38;5;124;03m\"\"\"\u001b[39;00m\n\u001b[1;32m    371\u001b[0m \u001b[38;5;28;01mif\u001b[39;00m \u001b[38;5;28mself\u001b[39m\u001b[38;5;241m.\u001b[39m_xarray_data \u001b[38;5;129;01mis\u001b[39;00m \u001b[38;5;28;01mNone\u001b[39;00m:\n\u001b[0;32m--> 372\u001b[0m     \u001b[38;5;28mself\u001b[39m\u001b[38;5;241m.\u001b[39m_xarray_data \u001b[38;5;241m=\u001b[39m \u001b[38;5;28;43mself\u001b[39;49m\u001b[38;5;241;43m.\u001b[39;49m\u001b[43m_read_immediate\u001b[49m\u001b[43m(\u001b[49m\u001b[43m)\u001b[49m\n\u001b[1;32m    374\u001b[0m     \u001b[38;5;66;03m# Remake the delayed xarray dataarray object using a rechunked dask array\u001b[39;00m\n\u001b[1;32m    375\u001b[0m     \u001b[38;5;66;03m# from the just retrieved in-memory xarray dataarray\u001b[39;00m\n\u001b[1;32m    376\u001b[0m     \u001b[38;5;28mself\u001b[39m\u001b[38;5;241m.\u001b[39m_xarray_dask_data \u001b[38;5;241m=\u001b[39m xr\u001b[38;5;241m.\u001b[39mDataArray(\n\u001b[1;32m    377\u001b[0m         da\u001b[38;5;241m.\u001b[39mfrom_array(\u001b[38;5;28mself\u001b[39m\u001b[38;5;241m.\u001b[39m_xarray_data\u001b[38;5;241m.\u001b[39mdata),\n\u001b[1;32m    378\u001b[0m         dims\u001b[38;5;241m=\u001b[39m\u001b[38;5;28mself\u001b[39m\u001b[38;5;241m.\u001b[39m_xarray_data\u001b[38;5;241m.\u001b[39mdims,\n\u001b[1;32m    379\u001b[0m         coords\u001b[38;5;241m=\u001b[39m\u001b[38;5;28mself\u001b[39m\u001b[38;5;241m.\u001b[39m_xarray_data\u001b[38;5;241m.\u001b[39mcoords,\n\u001b[1;32m    380\u001b[0m         attrs\u001b[38;5;241m=\u001b[39m\u001b[38;5;28mself\u001b[39m\u001b[38;5;241m.\u001b[39m_xarray_data\u001b[38;5;241m.\u001b[39mattrs,\n\u001b[1;32m    381\u001b[0m     )\n",
      "File \u001b[0;32m/opt/anaconda3/envs/care_env/lib/python3.9/site-packages/aicsimageio/readers/czi_reader.py:713\u001b[0m, in \u001b[0;36mCziReader._read_immediate\u001b[0;34m(self)\u001b[0m\n\u001b[1;32m    706\u001b[0m dims_shape \u001b[38;5;241m=\u001b[39m CziReader\u001b[38;5;241m.\u001b[39m_dims_shape_to_scene_dims_shape(\n\u001b[1;32m    707\u001b[0m     dims_shape\u001b[38;5;241m=\u001b[39mczi\u001b[38;5;241m.\u001b[39mget_dims_shape(),\n\u001b[1;32m    708\u001b[0m     scene_index\u001b[38;5;241m=\u001b[39m\u001b[38;5;28mself\u001b[39m\u001b[38;5;241m.\u001b[39mcurrent_scene_index,\n\u001b[1;32m    709\u001b[0m     consistent\u001b[38;5;241m=\u001b[39mczi\u001b[38;5;241m.\u001b[39mshape_is_consistent,\n\u001b[1;32m    710\u001b[0m )\n\u001b[1;32m    712\u001b[0m \u001b[38;5;66;03m# Get image data\u001b[39;00m\n\u001b[0;32m--> 713\u001b[0m image_data, _ \u001b[38;5;241m=\u001b[39m \u001b[38;5;28;43mself\u001b[39;49m\u001b[38;5;241;43m.\u001b[39;49m\u001b[43m_get_image_data\u001b[49m\u001b[43m(\u001b[49m\n\u001b[1;32m    714\u001b[0m \u001b[43m    \u001b[49m\u001b[43mfs\u001b[49m\u001b[38;5;241;43m=\u001b[39;49m\u001b[38;5;28;43mself\u001b[39;49m\u001b[38;5;241;43m.\u001b[39;49m\u001b[43m_fs\u001b[49m\u001b[43m,\u001b[49m\n\u001b[1;32m    715\u001b[0m \u001b[43m    \u001b[49m\u001b[43mpath\u001b[49m\u001b[38;5;241;43m=\u001b[39;49m\u001b[38;5;28;43mself\u001b[39;49m\u001b[38;5;241;43m.\u001b[39;49m\u001b[43m_path\u001b[49m\u001b[43m,\u001b[49m\n\u001b[1;32m    716\u001b[0m \u001b[43m    \u001b[49m\u001b[43mscene\u001b[49m\u001b[38;5;241;43m=\u001b[39;49m\u001b[38;5;28;43mself\u001b[39;49m\u001b[38;5;241;43m.\u001b[39;49m\u001b[43mcurrent_scene_index\u001b[49m\u001b[43m,\u001b[49m\n\u001b[1;32m    717\u001b[0m \u001b[43m\u001b[49m\u001b[43m)\u001b[49m\n\u001b[1;32m    719\u001b[0m \u001b[38;5;66;03m# Get metadata\u001b[39;00m\n\u001b[1;32m    720\u001b[0m meta \u001b[38;5;241m=\u001b[39m czi\u001b[38;5;241m.\u001b[39mmeta\n",
      "File \u001b[0;32m/opt/anaconda3/envs/care_env/lib/python3.9/site-packages/aicsimageio/readers/czi_reader.py:361\u001b[0m, in \u001b[0;36mCziReader._get_image_data\u001b[0;34m(fs, path, scene, read_dims)\u001b[0m\n\u001b[1;32m    358\u001b[0m read_dims[CZI_SCENE_DIM_CHAR] \u001b[38;5;241m=\u001b[39m adjusted_scene_index\n\u001b[1;32m    360\u001b[0m \u001b[38;5;66;03m# Read image\u001b[39;00m\n\u001b[0;32m--> 361\u001b[0m data, dims \u001b[38;5;241m=\u001b[39m \u001b[43mczi\u001b[49m\u001b[38;5;241;43m.\u001b[39;49m\u001b[43mread_image\u001b[49m\u001b[43m(\u001b[49m\u001b[38;5;241;43m*\u001b[39;49m\u001b[38;5;241;43m*\u001b[39;49m\u001b[43mread_dims\u001b[49m\u001b[43m)\u001b[49m\n\u001b[1;32m    363\u001b[0m \u001b[38;5;66;03m# Drop dims that shouldn't be provided back\u001b[39;00m\n\u001b[1;32m    364\u001b[0m ops: List[Union[\u001b[38;5;28mint\u001b[39m, \u001b[38;5;28mslice\u001b[39m]] \u001b[38;5;241m=\u001b[39m []\n",
      "File \u001b[0;32m/opt/anaconda3/envs/care_env/lib/python3.9/site-packages/aicspylibczi/CziFile.py:552\u001b[0m, in \u001b[0;36mCziFile.read_image\u001b[0;34m(self, **kwargs)\u001b[0m\n\u001b[1;32m    549\u001b[0m m_index \u001b[38;5;241m=\u001b[39m \u001b[38;5;28mself\u001b[39m\u001b[38;5;241m.\u001b[39m_get_m_index_from_kwargs(kwargs)\n\u001b[1;32m    550\u001b[0m cores \u001b[38;5;241m=\u001b[39m \u001b[38;5;28mself\u001b[39m\u001b[38;5;241m.\u001b[39m_get_cores_from_kwargs(kwargs)\n\u001b[0;32m--> 552\u001b[0m image, shape \u001b[38;5;241m=\u001b[39m \u001b[38;5;28;43mself\u001b[39;49m\u001b[38;5;241;43m.\u001b[39;49m\u001b[43mreader\u001b[49m\u001b[38;5;241;43m.\u001b[39;49m\u001b[43mread_selected\u001b[49m\u001b[43m(\u001b[49m\u001b[43mplane_constraints\u001b[49m\u001b[43m,\u001b[49m\u001b[43m \u001b[49m\u001b[43mm_index\u001b[49m\u001b[43m,\u001b[49m\u001b[43m \u001b[49m\u001b[43mcores\u001b[49m\u001b[43m)\u001b[49m\n\u001b[1;32m    553\u001b[0m \u001b[38;5;28;01mreturn\u001b[39;00m image, shape\n",
      "File \u001b[0;32m/opt/anaconda3/envs/care_env/lib/python3.9/site-packages/numpy/lib/_version.py:55\u001b[0m, in \u001b[0;36mNumpyVersion.__init__\u001b[0;34m(self, vstring)\u001b[0m\n\u001b[1;32m     14\u001b[0m \u001b[38;5;28;01mclass\u001b[39;00m\u001b[38;5;250m \u001b[39m\u001b[38;5;21;01mNumpyVersion\u001b[39;00m():\n\u001b[1;32m     15\u001b[0m \u001b[38;5;250m    \u001b[39m\u001b[38;5;124;03m\"\"\"Parse and compare numpy version strings.\u001b[39;00m\n\u001b[1;32m     16\u001b[0m \n\u001b[1;32m     17\u001b[0m \u001b[38;5;124;03m    NumPy has the following versioning scheme (numbers given are examples; they\u001b[39;00m\n\u001b[0;32m   (...)\u001b[0m\n\u001b[1;32m     52\u001b[0m \n\u001b[1;32m     53\u001b[0m \u001b[38;5;124;03m    \"\"\"\u001b[39;00m\n\u001b[0;32m---> 55\u001b[0m     \u001b[38;5;28;01mdef\u001b[39;00m\u001b[38;5;250m \u001b[39m\u001b[38;5;21m__init__\u001b[39m(\u001b[38;5;28mself\u001b[39m, vstring):\n\u001b[1;32m     56\u001b[0m         \u001b[38;5;28mself\u001b[39m\u001b[38;5;241m.\u001b[39mvstring \u001b[38;5;241m=\u001b[39m vstring\n\u001b[1;32m     57\u001b[0m         ver_main \u001b[38;5;241m=\u001b[39m re\u001b[38;5;241m.\u001b[39mmatch(\u001b[38;5;124mr\u001b[39m\u001b[38;5;124m'\u001b[39m\u001b[38;5;124m\\\u001b[39m\u001b[38;5;124md+\u001b[39m\u001b[38;5;124m\\\u001b[39m\u001b[38;5;124m.\u001b[39m\u001b[38;5;124m\\\u001b[39m\u001b[38;5;124md+\u001b[39m\u001b[38;5;124m\\\u001b[39m\u001b[38;5;124m.\u001b[39m\u001b[38;5;124m\\\u001b[39m\u001b[38;5;124md+\u001b[39m\u001b[38;5;124m'\u001b[39m, vstring)\n",
      "\u001b[0;31mKeyboardInterrupt\u001b[0m: "
     ]
    }
   ],
   "source": [
    "import os\n",
    "\n",
    "# === 1. Define file paths ===\n",
    "# TODO: Update these paths to match your local directory structure\n",
    "fixed_path  = r\"/Volumes/WDRIVE/Group Fritzsche/Ed/lattice/08102025_fixed_LN_CARE/CARE_data/raw/2ii4_lifeactGFP_50pc_1ms-01.czi\"\n",
    "moving_path = r\"/Volumes/WDRIVE/Group Fritzsche/Ed/lattice/08102025_fixed_LN_CARE/CARE_data/raw/2ii4_lifeactGFP_50pc_50ms-01.czi\"\n",
    "\n",
    "dir_path = os.path.dirname(moving_path)\n",
    "name     = os.path.basename(moving_path[:-4])\n",
    "print(dir_path)\n",
    "\n",
    "fixed_np_full  = load_czi(fixed_path)\n",
    "print(fixed_np_full.dtype)\n",
    "print(fixed_np_full.shape)\n",
    "\n",
    "# Create output directory if it doesn't exist\n",
    "output_dir = os.path.join(dir_path, \"registered\")\n",
    "os.makedirs(output_dir, exist_ok=True)\n",
    "\n",
    "imwrite(os.path.join(output_dir, name + \"_5ms_fixed.tif\"), fixed_np_full.astype(np.float32))\n",
    "print(\"💾 Saved as: fixed.tif\")\n",
    "\n",
    "moving_np_full = load_czi(moving_path)\n",
    "\n",
    "z_factor  = 0.5\n",
    "xy_factor = 0.5\n",
    "fixed_np_down  = downsample_volume(fixed_np_full , z_factor=z_factor, xy_factor=xy_factor, order=1)\n",
    "moving_np_down = downsample_volume(moving_np_full, z_factor=z_factor, xy_factor=xy_factor, order=1)\n",
    "\n",
    "# Convert numpy arrays to SimpleITK images\n",
    "fixed_sitk_full  = sitk.GetImageFromArray(fixed_np_full)\n",
    "moving_sitk_full = sitk.GetImageFromArray(moving_np_full)\n",
    "fixed_sitk_down  = sitk.GetImageFromArray(fixed_np_down)\n",
    "moving_sitk_down = sitk.GetImageFromArray(moving_np_down)\n",
    "\n",
    "# Create a plain 3D translation transform\n",
    "initial_tx = sitk.TranslationTransform(3)\n",
    "\n",
    "# Set up registration\n",
    "reg = sitk.ImageRegistrationMethod()\n",
    "reg.SetMetricAsCorrelation()\n",
    "reg.SetInterpolator(sitk.sitkLinear)\n",
    "reg.SetOptimizerAsRegularStepGradientDescent(\n",
    "    learningRate=1.0, minStep=1e-4, numberOfIterations=200\n",
    ")\n",
    "reg.SetInitialTransform(initial_tx, inPlace=False)\n",
    "\n",
    "print(\"🔄 Running translation-only registration...\")\n",
    "final_tx = reg.Execute(fixed_sitk_down, moving_sitk_down)\n",
    "dz, dy, dx = final_tx.GetParameters()\n",
    "full_translation = [dz * 1/z_factor, dy * 1/xy_factor, dx * 1/xy_factor]\n",
    "print(\"✅ Translation (Z, Y, X):\", full_translation)\n",
    "tx_full = sitk.TranslationTransform(3)\n",
    "tx_full.SetParameters(full_translation)\n",
    "\n",
    "\n",
    "# Apply transform\n",
    "registered_sitk = sitk.Resample(moving_sitk_full, fixed_sitk_full, tx_full, sitk.sitkLinear, 0.0, moving_sitk_full.GetPixelID())\n",
    "registered_np = sitk.GetArrayFromImage(registered_sitk)\n",
    "print(registered_np.shape)\n",
    "\n",
    "imwrite(os.path.join(output_dir, name + \"_5ms_registered.tif\"), registered_np.astype(np.float32))\n",
    "print(\"💾 Saved as: pos_registered_translation.tif\")\n",
    "\n",
    "# === 5. Quick visual check (middle slice overlay) ===\n",
    "z = fixed_np_full.shape[0] // 2\n",
    "overlay = np.stack([fixed_np_full[z], registered_np[z], np.zeros_like(fixed_np_full[z])], axis=-1)\n",
    "\n",
    "plt.figure(figsize=(10,4))\n",
    "plt.subplot(1,3,1); plt.imshow(fixed_np_full[z], cmap='gray'); plt.title(\"Fixed\"); plt.axis('off')\n",
    "plt.subplot(1,3,2); plt.imshow(registered_np[z], cmap='gray'); plt.title(\"Registered\"); plt.axis('off')\n",
    "plt.subplot(1,3,3); plt.imshow(overlay); plt.title(\"Overlay\"); plt.axis('off')\n",
    "plt.show()"
   ]
  }
 ],
 "metadata": {
  "kernelspec": {
   "display_name": "care_env",
   "language": "python",
   "name": "python3"
  },
  "language_info": {
   "codemirror_mode": {
    "name": "ipython",
    "version": 3
   },
   "file_extension": ".py",
   "mimetype": "text/x-python",
   "name": "python",
   "nbconvert_exporter": "python",
   "pygments_lexer": "ipython3",
   "version": "3.9.24"
  }
 },
 "nbformat": 4,
 "nbformat_minor": 5
}
