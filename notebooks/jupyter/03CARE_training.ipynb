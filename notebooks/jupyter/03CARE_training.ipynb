{
 "cells": [
  {
   "cell_type": "markdown",
   "id": "9fb297e6",
   "metadata": {},
   "source": [
    "# CARE Model Training Notebook\n",
    "\n",
    "This notebook trains the CARE (Content-Aware Image Restoration) neural network model.\n",
    "\n",
    "## Setup\n",
    "\n",
    "Make sure you have the required packages installed:\n",
    "```bash\n",
    "pip install tensorflow csbdeep numpy matplotlib\n",
    "```\n",
    "\n",
    "For GPU support with TensorFlow, ensure you have the appropriate CUDA drivers installed."
   ]
  },
  {
   "cell_type": "code",
   "execution_count": null,
   "id": "e89f05d8",
   "metadata": {},
   "outputs": [],
   "source": [
    "import tensorflow as tf\n",
    "print(\"GPUs:\", tf.config.list_physical_devices('GPU'))"
   ]
  },
  {
   "cell_type": "code",
   "execution_count": null,
   "id": "7290ff29",
   "metadata": {},
   "outputs": [],
   "source": [
    "from __future__ import print_function, unicode_literals, absolute_import, division\n",
    "import numpy as np\n",
    "import matplotlib.pyplot as plt\n",
    "%matplotlib inline\n",
    "\n",
    "from tifffile import imread\n",
    "from csbdeep.utils import axes_dict, plot_some, plot_history\n",
    "from csbdeep.utils.tf import limit_gpu_memory\n",
    "from csbdeep.io import load_training_data\n",
    "from csbdeep.models import Config, CARE"
   ]
  },
  {
   "cell_type": "markdown",
   "id": "9d0966a1",
   "metadata": {},
   "source": [
    "### Load Training Data\n",
    "\n",
    "**Note:** Update the path below to match your local directory structure."
   ]
  },
  {
   "cell_type": "code",
   "execution_count": null,
   "id": "428b4ab7",
   "metadata": {},
   "outputs": [],
   "source": [
    "# TODO: Update this path to your patches file\n",
    "(X,Y), (X_val,Y_val), axes = load_training_data(\n",
    "    'path/to/your/data/fixed/CARE/raw_data/for_training_5ms/patches/patches.npz', \n",
    "    validation_split=0.1, \n",
    "    verbose=True\n",
    ")\n",
    "\n",
    "c = axes_dict(axes)['C']\n",
    "n_channel_in, n_channel_out = X.shape[c], Y.shape[c]"
   ]
  },
  {
   "cell_type": "markdown",
   "id": "05c6f4c4",
   "metadata": {},
   "source": [
    "### Visualize Validation Patches"
   ]
  },
  {
   "cell_type": "code",
   "execution_count": null,
   "id": "7704ccdd",
   "metadata": {},
   "outputs": [],
   "source": [
    "plt.figure(figsize=(12,5))\n",
    "plot_some(X_val[:5],Y_val[:5])\n",
    "plt.suptitle('5 example validation patches (top row: source, bottom row: target)');"
   ]
  },
  {
   "cell_type": "markdown",
   "id": "a7efdcdf",
   "metadata": {},
   "source": [
    "### Configure Model"
   ]
  },
  {
   "cell_type": "code",
   "execution_count": null,
   "id": "e9e3b0f9",
   "metadata": {},
   "outputs": [],
   "source": [
    "config = Config(axes, n_channel_in, n_channel_out, train_steps_per_epoch=400, train_batch_size=20, probabilistic=True)\n",
    "print(config)\n",
    "vars(config)"
   ]
  },
  {
   "cell_type": "markdown",
   "id": "dc10cd3c",
   "metadata": {},
   "source": [
    "### Train Model\n",
    "\n",
    "**Note:** Update the `basedir` below to specify where you want to save the trained model.\n",
    "\n",
    "For TensorBoard monitoring, you can run in a separate terminal:\n",
    "```bash\n",
    "tensorboard --logdir=models\n",
    "```"
   ]
  },
  {
   "cell_type": "code",
   "execution_count": null,
   "id": "42aabc97",
   "metadata": {},
   "outputs": [],
   "source": [
    "# TODO: Update basedir to your desired model save location\n",
    "model = CARE(config, 'my_model', basedir='models')\n",
    "history = model.train(X,Y, validation_data=(X_val,Y_val))"
   ]
  },
  {
   "cell_type": "markdown",
   "id": "888c701b",
   "metadata": {},
   "source": [
    "### Plot Training History"
   ]
  },
  {
   "cell_type": "code",
   "execution_count": null,
   "id": "de2e8f87",
   "metadata": {},
   "outputs": [],
   "source": [
    "print(sorted(list(history.history.keys())))\n",
    "plt.figure(figsize=(16,5))\n",
    "plot_history(history,['loss','val_loss'],['mse','val_mse','mae','val_mae']);"
   ]
  },
  {
   "cell_type": "markdown",
   "id": "1799c90f",
   "metadata": {},
   "source": [
    "### Evaluate Model on Validation Set"
   ]
  },
  {
   "cell_type": "code",
   "execution_count": null,
   "id": "f2221c6e",
   "metadata": {},
   "outputs": [],
   "source": [
    "plt.figure(figsize=(12,7))\n",
    "_P = model.keras_model.predict(X_val[:5])\n",
    "if config.probabilistic:\n",
    "    _P = _P[...,:(_P.shape[-1]//2)]\n",
    "plot_some(X_val[:5],Y_val[:5],_P,pmax=99.5)\n",
    "plt.suptitle('5 example validation patches\\n'\n",
    "             'top row: input (source),  '\n",
    "             'middle row: target (ground truth),  '\n",
    "             'bottom row: predicted from source');"
   ]
  }
 ],
 "metadata": {
  "language_info": {
   "name": "python"
  }
 },
 "nbformat": 4,
 "nbformat_minor": 5
}
